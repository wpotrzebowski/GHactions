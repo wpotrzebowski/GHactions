{
 "cells": [
  {
   "cell_type": "markdown",
   "metadata": {},
   "source": [
    "## Classes in Python\u0010"
   ]
  },
  {
   "cell_type": "markdown",
   "metadata": {},
   "source": [
    "A class can be considered a template for a new object. It has already been mentioned that many of the types in Python that have been using are really objects, meaning they can have associated methods and hold data. For example a string is an object that holds some characters and a number of helpful methods, for example upper that returns the string in capital letters. When creating a new class, a new type of object can be made from that class.\n",
    "\n",
    "When using classes, one use object-oriented programming, and this allows the programmer to organize the code in a differnt way than you might be used to. Classes are made to correspond to different parts of a system, and then these can be assembled to more complex systems, while hiding the internal logic of the parts. This is how most modern software is structured, and will be standard for ESS software.\n",
    "\n",
    "In this notebook the concept of classes will be illustrated by building a simulation of a rocket. We will make the following classes:\n",
    "\n",
    "- RocketEnigne\n",
    "- FuelTank\n",
    "- RocketStage (consits of one engine and one fuel tank)\n",
    "- Rocket (consits of a number of RocketStages)"
   ]
  },
  {
   "cell_type": "markdown",
   "metadata": {},
   "source": [
    "### The rocket engine class\n",
    "First we need to describe a rocket engine. The engine will be used by the RocketStage, and needs no actual functionality, but needs to hold its specifications. The `__init__` method is used whenever a new _instance_ of a class is made, so here we use the `__init__` method to store the information inside the object. Inside an object, one refers to the object itself as _self_, so the information given in `__init__` is internalized by adding it to self. Parameters added to _self_ is called attributes, and if they are added in `__init__`, they are called instance attributes. "
   ]
  },
  {
   "cell_type": "code",
   "execution_count": null,
   "metadata": {},
   "outputs": [],
   "source": [
    "class RocketEngine:\n",
    "    \"\"\"Description of a rocket engine with given thrust, fuel consuption and mass\n",
    "    \n",
    "    Keyword arguments:\n",
    "    thrust -- thrust of the engine in N\n",
    "    fuel_consuption -- fuel consumption at full thrust in kg/s\n",
    "    mass -- mass of the engine in kg\n",
    "    \"\"\"\n",
    "    def __init__(self, thrust=3500, fuel_consumption=1.0, mass=2.0):\n",
    "        self.thrust = thrust # Assign the thrust given in input to self, making it a instance attribute\n",
    "        self.fuel_consumption = fuel_consumption # Same procedure for fuel consumption and mass\n",
    "        self.mass = mass"
   ]
  },
  {
   "cell_type": "markdown",
   "metadata": {},
   "source": [
    "Now that we have a simple class, it can be used to make an engine object! The attributes can be accessed directly using `.`. "
   ]
  },
  {
   "cell_type": "code",
   "execution_count": null,
   "metadata": {},
   "outputs": [],
   "source": [
    "test_engine = RocketEngine(thrust=1000, fuel_consumption=1.0, mass=5.0)\n",
    "print(test_engine.mass)\n",
    "\n",
    "print(test_engine)"
   ]
  },
  {
   "cell_type": "markdown",
   "metadata": {},
   "source": [
    "Using the built in print function on our RocketEngine object does not return very useful information. It is possible to customize what objects of your class should print by defining a `__repr__` method that returns a string to be printed. We will expand our RocketEngine class to include such a method."
   ]
  },
  {
   "cell_type": "code",
   "execution_count": null,
   "metadata": {},
   "outputs": [],
   "source": [
    "class RocketEngine:\n",
    "    \"\"\"Description of a rocket engine with given thrust, fuel consumption and mass\n",
    "    \n",
    "    Keyword arguments:\n",
    "    thrust -- thrust of the engine [N]\n",
    "    fuel_consumption -- fuel consumption at full thrust [kg/s]\n",
    "    mass -- mass of the engine [kg]\n",
    "    \"\"\"\n",
    "    def __init__(self, thrust=3500, fuel_consumption=1.0, mass=2.0):\n",
    "        self.thrust = thrust # Assign the thrust given in input to self, making it a instance attribute\n",
    "        self.fuel_consumption = fuel_consumption # Same procedure for fuel consumption and mass\n",
    "        self.mass = mass\n",
    "        \n",
    "    def __repr__(self):\n",
    "        # __repr__ is a method that will be called when using print\n",
    "        output = \"Rocket engine with: \\n\" # \\n adds a new line\n",
    "        output += \" thrust: \" + str(self.thrust) + \" N \\n\" # it is possible to access attributes from all methods\n",
    "        output += \" mass: \" + str(self.mass) + \" kg \\n\"\n",
    "        output += \" fuel consumption: \" + str(self.fuel_consumption) + \" kg/s \\n\"\n",
    "        return output"
   ]
  },
  {
   "cell_type": "code",
   "execution_count": null,
   "metadata": {},
   "outputs": [],
   "source": [
    "test_engine = RocketEngine(thrust=1000, fuel_consumption=1, mass=5)\n",
    "print(test_engine)"
   ]
  },
  {
   "cell_type": "markdown",
   "metadata": {},
   "source": [
    "### The fuel tank class \n",
    "Next we consider a fuel tank. We disregard that different types of fuel typically need to be mixed, and just assign a total fuel mass along with a dry mass of the tank. Again we will add a `__repr__` method to help print the objects of this class nicely.<br/>\n",
    "When using a fuel tank, it is important to know how much is left, so we add a method that will return this information to the user.<br/>\n",
    "Since the mass of the fuel tank will change when fuel is consumed, we also provide a method to calculate the current mass of the fuel tank, called `get_mass`.<br/>\n",
    "The last method provided is called `request_fuel`, and this will take an amount of fuel out of the tank. If the amount requested is larger than what remains, only the remaining fuel is returned."
   ]
  },
  {
   "cell_type": "code",
   "execution_count": null,
   "metadata": {},
   "outputs": [],
   "source": [
    "class FuelTank:\n",
    "    \"\"\"Description of a fuel tank with given dry mass and fuel mass\n",
    "    \n",
    "    Keyword arguments:\n",
    "    dry_mass -- mass of tank without fuel [kg]\n",
    "    fuel_mass -- initial mass of fuel [kg]\n",
    "    \n",
    "    Methods:\n",
    "    get_fuel -- returns the amount of fuel left [kg]\n",
    "    get_mass -- returns the current mass of the fuel tank [kg]\n",
    "    request_fuel(amount) -- uses given amount [kg] of fuel from tank\n",
    "    \"\"\"   \n",
    "    \n",
    "    def __init__(self, dry_mass=20, fuel_mass=150):\n",
    "        self.dry_mass = dry_mass\n",
    "        self.fuel_capacity = fuel_mass\n",
    "        self.fuel_mass = fuel_mass # will decrease during simulation\n",
    "        \n",
    "    def __repr__(self):\n",
    "        output = \"Fuel tank with: \\n\"\n",
    "        output += \" dry_mass: \" + str(self.dry_mass) + \" kg \\n\"\n",
    "        output += \" fuel capacity: \" + str(self.fuel_capacity) + \" kg \\n\"\n",
    "        output += \" fuel remainig: \" + str(self.fuel_mass) + \" kg \\n\"\n",
    "        \n",
    "        return output        \n",
    "        \n",
    "    def get_fuel(self):\n",
    "        return self.fuel_mass\n",
    "    \n",
    "    def get_mass(self):\n",
    "        return self.fuel_mass + self.dry_mass\n",
    "    \n",
    "    def request_fuel(self, amount):\n",
    "        \"\"\"returns the amount of fuel used, in case the full amount was not available\n",
    "        \n",
    "        amount -- the amount of fuel requested [kg]\n",
    "        \"\"\"\n",
    "        if amount < self.fuel_mass:\n",
    "            self.fuel_mass -= amount\n",
    "            return amount\n",
    "        else:\n",
    "            used_fuel = self.fuel_mass\n",
    "            self.fuel_mass = 0\n",
    "            return used_fuel"
   ]
  },
  {
   "cell_type": "markdown",
   "metadata": {},
   "source": [
    "Now fuel tank instances can be made using our FuelTank class. Lets check that the `get_mass`method works as expected. "
   ]
  },
  {
   "cell_type": "code",
   "execution_count": null,
   "metadata": {},
   "outputs": [],
   "source": [
    "test_tank = FuelTank(5, 20)\n",
    "print(test_tank)\n",
    "print(\"mass of fuel tank: \", test_tank.get_mass())"
   ]
  },
  {
   "cell_type": "markdown",
   "metadata": {},
   "source": [
    "The code below demonstrates the request_fuel, run the cell multiple times with ctrl+enter to see the fuel being drained. To reset the fuel tank, run the above cell to create a new instance of FuelTank that overwrites the old empty instance."
   ]
  },
  {
   "cell_type": "code",
   "execution_count": null,
   "metadata": {},
   "outputs": [],
   "source": [
    "fuel_used = test_tank.request_fuel(3)\n",
    "print(\"After taking some fuel:\")\n",
    "print(test_tank)\n",
    "print(\"mass of fuel tank: \", test_tank.get_mass())\n",
    "print(\"fuel used: \", fuel_used)"
   ]
  },
  {
   "cell_type": "markdown",
   "metadata": {},
   "source": [
    "### The rocket stage class\n",
    "It was chosen to make the rocket engine and fuel tank independent, but they are intended to work together. Here a stage of a rocket is described, which consists of an engine and a fuel tank. In this class we can take their interaction into account.<br/>\n",
    "We once again make the `get_mass` and `get_fuel` methods so that when using a rocket stage, one does not need to understand its inner logic. <br/>\n",
    "Now it is also relevant to allow for firing the engine for a given amount of time (a small time step in a simulation), and returning the thrust achieved. If the tank runs out of fuel in the timespan, the thrust is lowered to provide an average constant thrust in that (small) timespan, but in normal circumstances the constant thrust of the engine is returned."
   ]
  },
  {
   "cell_type": "code",
   "execution_count": null,
   "metadata": {},
   "outputs": [],
   "source": [
    "class RocketStage:\n",
    "    \"\"\"Description of a rocket stage with fuel tank and engine\n",
    "    \n",
    "    Keyword arguments:\n",
    "    fuel_tank -- FuelTank object\n",
    "    engine -- RocketEngine object\n",
    "    \n",
    "    Methods:\n",
    "    get_fuel -- returns the amount of fuel left\n",
    "    get_mass -- returns the current mass of the fuel tank\n",
    "    fire_engine(time) -- return average thrust when engine fired for time seconds\n",
    "    \"\"\"    \n",
    "    def __init__(self, fuel_tank, engine):\n",
    "        self.fuel_tank = fuel_tank\n",
    "        self.engine = engine\n",
    "        \n",
    "    def __repr__(self):\n",
    "        output = \"Rocket stage that contains: \\n\"\n",
    "        output += self.fuel_tank.__repr__() # use __repr__ method defined in FuelTank\n",
    "        output += self.engine.__repr__() # use __repr__ method defined in RocketEngine\n",
    "        return output\n",
    "        \n",
    "    def get_fuel(self):\n",
    "        return self.fuel_tank.get_fuel()\n",
    "        \n",
    "    def get_mass(self):\n",
    "        return self.fuel_tank.get_mass() + self.engine.mass\n",
    "    \n",
    "    def fire_engine(self, time):\n",
    "        fuel_needed = time*self.engine.fuel_consumption\n",
    "        fuel_used = self.fuel_tank.request_fuel(fuel_needed)\n",
    "        \n",
    "        return self.engine.thrust*fuel_used/fuel_needed"
   ]
  },
  {
   "cell_type": "markdown",
   "metadata": {},
   "source": [
    "We can test this new class by using our `test_tank` and `test_engine` from earlier:"
   ]
  },
  {
   "cell_type": "code",
   "execution_count": null,
   "metadata": {},
   "outputs": [],
   "source": [
    "test_stage = RocketStage(test_tank, test_engine)\n",
    "print(test_stage)"
   ]
  },
  {
   "cell_type": "markdown",
   "metadata": {},
   "source": [
    "It is also possible to create the necessary objects when initializing the RocketStage."
   ]
  },
  {
   "cell_type": "code",
   "execution_count": null,
   "metadata": {},
   "outputs": [],
   "source": [
    "test_stage = RocketStage(FuelTank(5, 20), RocketEngine(1000, 1, 5))"
   ]
  },
  {
   "cell_type": "code",
   "execution_count": null,
   "metadata": {},
   "outputs": [],
   "source": [
    "# Use ctrl+enter to fire the engine and see the fuel being used\n",
    "test_stage.fire_engine(1.2)\n",
    "print(test_stage)"
   ]
  },
  {
   "cell_type": "markdown",
   "metadata": {},
   "source": [
    "### The rocket class\n",
    "Now that we have a class describing a rocket stage, it is much simpler to build a class that describes a rocket of several stages and includes the physics for a simple simulation of a launch.\n",
    "\n",
    "The initialize method of the rocket takes a list of stages, assuming the first stage is the one to be expended first. A few additional constants are provided, such as the payload mass, simulation time step, maximum simulation duration and gravity. The `__init__` method also sets initial values for time, elevation and speed used in the simulation, as well setting up lists for recording data under the simulation.\n",
    "\n",
    "The following methods are then created:\n",
    "- get_mass: Calculates the mass of the entire rocket, as it changes when stages are removed and fuel is spent\n",
    "- eject_stage: Will eject the current stage\n",
    "- record_data(acceleration): Will record the current state of the rocket to the data lists, including given acceleration.\n",
    "- update_trjajectory(acceleration): Uses classical mechanics to update position and speed from acceleration\n",
    "- simulate_launch: Method that contains the logic for simulating a launch, including calculation of acceleration\n",
    "- A `__repr__` method is missing, the next task will be to add this feature"
   ]
  },
  {
   "cell_type": "code",
   "execution_count": null,
   "metadata": {},
   "outputs": [],
   "source": [
    "class Rocket:\n",
    "    \"\"\"Description of a rocket with a number of stages and payload\n",
    "    \n",
    "    Keyword arguments:\n",
    "    stages -- List of RocketStage objects\n",
    "    payload_mass -- Mass of payload [kg]\n",
    "    time_step -- Time step used in simulation in [s]\n",
    "    gravity -- Gravity acceleration in [m/s^2]\n",
    "    \n",
    "    Methods:\n",
    "    get_mass -- returns the current mass of the rocket [kg]\n",
    "    eject_stage -- ejects the lowest stage, index 0 in the stages list\n",
    "    record_data(acceleration) -- records current rocket state including acceleration to data\n",
    "    update_trajectory(acceleration) -- updates the state of the rocket using clasical mechanics\n",
    "    simulate_launch -- performs a simulation of the rocket being launched\n",
    "    \"\"\"      \n",
    "    def __init__(self, stages, payload_mass, time_step=0.1, max_time=1000, gravity=-9.80665):\n",
    "        # Transfer input to instance attributes\n",
    "        self.stages = stages # list of stages, stage 0 is first to burn\n",
    "        self.payload_mass = payload_mass\n",
    "        self.time_step = time_step\n",
    "        self.max_time = max_time\n",
    "        self.gravity = gravity\n",
    "\n",
    "        # Initial state of the rocket\n",
    "        self.time = 0\n",
    "        self.elevation = 0\n",
    "        self.speed = 0\n",
    "\n",
    "        # Initialize lists for holding data points\n",
    "        self.time_data = []\n",
    "        self.mass_data = []\n",
    "        self.elevation_data = []\n",
    "        self.speed_data = []\n",
    "        self.acceleration_data = []\n",
    "    \n",
    "    # -- YOUR CODE HERE --\n",
    "    # ---------------------\n",
    "    \n",
    "    def get_mass(self):\n",
    "        mass = self.payload_mass\n",
    "        for stage in self.stages:\n",
    "            mass += stage.get_mass()\n",
    "            \n",
    "        return mass\n",
    "            \n",
    "    def eject_stage(self):\n",
    "        self.stages.pop(0) # removes the lowest stage from the rocket!\n",
    "        \n",
    "    def record_data(self, acceleration):\n",
    "        self.time_data.append(self.time)\n",
    "        self.mass_data.append(self.get_mass())\n",
    "        self.elevation_data.append(self.elevation)\n",
    "        self.speed_data.append(self.speed)\n",
    "        self.acceleration_data.append(acceleration + self.gravity)\n",
    "        \n",
    "    def update_trajectory(self, acceleration):\n",
    "        self.time += self.time_step\n",
    "        self.speed += acceleration*self.time_step + self.gravity*self.time_step\n",
    "        self.elevation += self.speed*self.time_step\n",
    "        \n",
    "    def simulate_launch(self):\n",
    "        while (len(self.stages) > 0 and self.time < self.max_time):\n",
    "            # Calculate thrust and mass\n",
    "            thrust = self.stages[0].fire_engine(self.time_step)\n",
    "            mass = self.get_mass()\n",
    "            \n",
    "            # Get acceleration from Newtons 2nd law\n",
    "            acceleration = thrust/mass \n",
    "\n",
    "            # Update the rocket trajectory and record the state\n",
    "            self.update_trajectory(acceleration)\n",
    "            self.record_data(acceleration)\n",
    "            \n",
    "            # Check if the current stage is empty, and eject it if so\n",
    "            if self.stages[0].get_fuel() == 0:\n",
    "                self.eject_stage()"
   ]
  },
  {
   "cell_type": "markdown",
   "metadata": {},
   "source": [
    "**(1) Task:** <br>\n",
    "The rocket class lacks a `__repr__` method for printing its state, add such a method to the above code."
   ]
  },
  {
   "cell_type": "code",
   "execution_count": null,
   "metadata": {},
   "outputs": [],
   "source": [
    "import matplotlib.pyplot as plt"
   ]
  },
  {
   "cell_type": "code",
   "execution_count": null,
   "metadata": {},
   "outputs": [],
   "source": [
    "stage1_fuel = FuelTank(dry_mass=15, fuel_mass=50)\n",
    "stage1_engine = RocketEngine(thrust=1600, fuel_consumption=4, mass=3)\n",
    "stage1 = RocketStage(stage1_fuel, stage1_engine)\n",
    "\n",
    "stage2_fuel = FuelTank(dry_mass=2, fuel_mass=15)\n",
    "stage2_engine = RocketEngine(thrust=1200, fuel_consumption=2, mass=1)\n",
    "stage2 = RocketStage(stage2_fuel, stage2_engine)\n",
    "\n",
    "model_rocket = Rocket([stage1, stage2], payload_mass=1.5, time_step=0.10)\n",
    "\n",
    "print(model_rocket)\n",
    "\n",
    "model_rocket.simulate_launch()\n",
    "\n",
    "plt.plot(model_rocket.time_data, model_rocket.elevation_data, '-')\n",
    "plt.xlabel(\"time [s]\")\n",
    "plt.ylabel(\"elevation [m]\")\n",
    "plt.show()\n",
    "\n",
    "plt.plot(model_rocket.time_data, model_rocket.speed_data, '-')\n",
    "plt.xlabel(\"time [s]\")\n",
    "plt.ylabel(\"speed [m/s]\")\n",
    "plt.show()\n",
    "\n",
    "plt.plot(model_rocket.time_data, model_rocket.acceleration_data, '-')\n",
    "plt.xlabel(\"time [s]\")\n",
    "plt.ylabel(\"acceleration [m/s/s]\")\n",
    "plt.show()\n",
    "\n",
    "plt.plot(model_rocket.time_data, model_rocket.mass_data, '-')\n",
    "plt.xlabel(\"time [s]\")\n",
    "plt.ylabel(\"rocket mass [kg]\")\n",
    "plt.show()"
   ]
  },
  {
   "cell_type": "markdown",
   "metadata": {},
   "source": [
    "**(2) Task:** <br>\n",
    "The simulation uses a finite timestep, investigate how this affects the simulation by comparing two otherwise identical simulations."
   ]
  },
  {
   "cell_type": "code",
   "execution_count": null,
   "metadata": {},
   "outputs": [],
   "source": []
  }
 ],
 "metadata": {
  "kernelspec": {
   "display_name": "Python 3",
   "language": "python",
   "name": "python3"
  },
  "language_info": {
   "codemirror_mode": {
    "name": "ipython",
    "version": 3
   },
   "file_extension": ".py",
   "mimetype": "text/x-python",
   "name": "python",
   "nbconvert_exporter": "python",
   "pygments_lexer": "ipython3",
   "version": "3.7.1"
  }
 },
 "nbformat": 4,
 "nbformat_minor": 2
}
