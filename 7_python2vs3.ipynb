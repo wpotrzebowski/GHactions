{
 "cells": [
  {
   "cell_type": "markdown",
   "metadata": {},
   "source": [
    "# Python 2 Vs Python 3"
   ]
  },
  {
   "cell_type": "markdown",
   "metadata": {},
   "source": [
    "The first thing you should know, **Python 2 is dead**. For everyday usage python 2 should be avoided and only used when a specific library is unavailable in python 3, though you should consider using an up to date package."
   ]
  },
  {
   "cell_type": "markdown",
   "metadata": {},
   "source": [
    "## Main Differences"
   ]
  },
  {
   "cell_type": "markdown",
   "metadata": {},
   "source": [
    "<table><thead><tr><th><strong>Basis of comparison</strong> </th><th><strong>Python 3</strong> </th><th><strong>Python 2</strong> </th></tr></thead><tr><td>Release Date<br/><br/> </td><td>2008 </td><td>2000 </td></tr><tr><td>Function print<br/><br/> </td><td>print (\"hello\") </td><td>print \"hello\" </td></tr><tr><td>Division of Integers </td><td>Whenever two integers are divided, you get a float value </td><td>When two integers are divided, you always provide integer value. </td></tr><tr><td>Unicode<br/><br/> </td><td>In Python 3, default storing of strings is Unicode. </td><td>To store Unicode string value, you require to define them with \"u\". </td></tr><tr><td>Syntax <br/><br/> </td><td>The syntax is simpler and easily understandable. </td><td>The syntax of Python 2 was comparatively difficult to understand. </td></tr><tr><td>Rules of ordering Comparisons </td><td>In this version, Rules of ordering comparisons have been simplified. </td><td>Rules of ordering comparison are very complex. </td></tr><tr><td>Iteration<br/><br/> </td><td>The new Range() function introduced to perform iterations. </td><td>In Python 2, the xrange() is used for iterations. </td></tr><tr><td>Exceptions<br/><br/> </td><td>It should be enclosed in parenthesis. </td><td>It should be enclosed in notations. </td></tr><tr><td>Leak of variables<br/><br/> </td><td>The value of variables never changes. </td><td>The value of the global variable will change while using it inside for-loop. </td></tr><tr><td>Backward compatibility </td><td>Not difficult to port python 2 to python 3 but it is never reliable. </td><td>Python version 3 is not backwardly compatible with Python 2. </td></tr><tr><td>Library<br/><br/> </td><td>Many recent developers are creating libraries which you can only use with Python 3. </td><td>Many older libraries created for Python 2 is not forward-compatible. </td></tr></table>"
   ]
  },
  {
   "cell_type": "markdown",
   "metadata": {},
   "source": [
    "## Python 2 vs. Python 3 Example Code"
   ]
  },
  {
   "cell_type": "markdown",
   "metadata": {},
   "source": [
    "### Python 2"
   ]
  },
  {
   "cell_type": "markdown",
   "metadata": {},
   "source": [
    "```\n",
    "def main():\n",
    "  print \"Hello World!\"\n",
    "  \n",
    "if __name__== \"__main__\":\n",
    "  main()\n",
    "```"
   ]
  },
  {
   "cell_type": "markdown",
   "metadata": {},
   "source": [
    "### Python 3"
   ]
  },
  {
   "cell_type": "markdown",
   "metadata": {},
   "source": [
    "```\n",
    "def main():\n",
    "  print(\"Hello World!\")\n",
    "  \n",
    "if __name__== \"__main__\":\n",
    "  main()\n",
    "```"
   ]
  },
  {
   "cell_type": "markdown",
   "metadata": {},
   "source": [
    "## Take-home Differences"
   ]
  },
  {
   "cell_type": "markdown",
   "metadata": {},
   "source": [
    "* Python 3 syntax is simpler and easily understandable whereas Python 2 syntax is comparatively difficult to understand.\n",
    "\n",
    "* Python 3 default storing of strings is Unicode whereas Python 2 stores need to define Unicode string value with \"u.\"\n",
    "* Python 3 value of variables never changes whereas in Python 2 value of the global variable will be changed while using it inside for-loop.\n",
    "* Python 3 exceptions should be enclosed in parenthesis while Python 2 exceptions should be enclosed in notations.\n",
    "* Python 3 rules of ordering comparisons are simplified whereas Python 2 rules of ordering comparison are complex.\n",
    "* Python 3 offers `range()` function to perform iterations whereas, In Python 2, `xrange()` is used for iterations."
   ]
  }
 ],
 "metadata": {
  "kernelspec": {
   "display_name": "Python 3",
   "language": "python",
   "name": "python3"
  },
  "language_info": {
   "codemirror_mode": {
    "name": "ipython",
    "version": 3
   },
   "file_extension": ".py",
   "mimetype": "text/x-python",
   "name": "python",
   "nbconvert_exporter": "python",
   "pygments_lexer": "ipython3",
   "version": "3.7.4"
  }
 },
 "nbformat": 4,
 "nbformat_minor": 2
}
